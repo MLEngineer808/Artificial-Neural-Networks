{
 "cells": [
  {
   "cell_type": "code",
   "execution_count": 4,
   "id": "f2692ba8-ff34-4fbf-8d37-7c98b7e2c7f5",
   "metadata": {},
   "outputs": [
    {
     "data": {
      "text/plain": [
       "5"
      ]
     },
     "execution_count": 4,
     "metadata": {},
     "output_type": "execute_result"
    }
   ],
   "source": [
    "s = \" My name is Andrii hello\"\n",
    "s.split()\n",
    "len(s.split())"
   ]
  },
  {
   "cell_type": "code",
   "execution_count": 10,
   "id": "0a1c8ad0-148d-4ba6-b618-4e1acdfc0d6e",
   "metadata": {},
   "outputs": [
    {
     "name": "stdout",
     "output_type": "stream",
     "text": [
      "[1, 4, 3, 16, 5]\n"
     ]
    }
   ],
   "source": [
    "nuts = [1, 2, 3, 4, 5]\n",
    "result = [x**2 if x % 2 == 0 else x for x in nuts]\n",
    "print(result)\n"
   ]
  },
  {
   "cell_type": "code",
   "execution_count": 12,
   "id": "c006d54c-7d63-4685-9c52-0cbc7ada0ece",
   "metadata": {},
   "outputs": [],
   "source": [
    "nums = [1,2,3,4,5]\n",
    "res = [x**2 if x%2 == 0 else 'odd' for x in nums]"
   ]
  },
  {
   "cell_type": "code",
   "execution_count": 16,
   "id": "0f37b4d6-f248-4e57-adc5-bf91ef1d4540",
   "metadata": {},
   "outputs": [
    {
     "ename": "SyntaxError",
     "evalue": "invalid syntax (436291776.py, line 1)",
     "output_type": "error",
     "traceback": [
      "\u001b[0;36m  Cell \u001b[0;32mIn[16], line 1\u001b[0;36m\u001b[0m\n\u001b[0;31m    [x**2 for x in nums if x%2==0 else 'odd']\u001b[0m\n\u001b[0m                                  ^\u001b[0m\n\u001b[0;31mSyntaxError\u001b[0m\u001b[0;31m:\u001b[0m invalid syntax\n"
     ]
    }
   ],
   "source": [
    "[x**2 for x in nums if x%2==0 else 'odd']"
   ]
  },
  {
   "cell_type": "code",
   "execution_count": null,
   "id": "df8b40b2-712d-4bbf-b1e9-fbfdd93bf392",
   "metadata": {},
   "outputs": [],
   "source": [
    "def safe_devide(a,b):\n",
    "    try:\n",
    "        result = a/b\n",
    "    except ZeroDivisionError\n",
    "        print(\"Division by zero is not allowed\"!)\n",
    "    else:\n",
    "        return result"
   ]
  },
  {
   "cell_type": "code",
   "execution_count": null,
   "id": "a4c79d07-44e9-4ed1-a9d0-dfb6056793cf",
   "metadata": {},
   "outputs": [],
   "source": [
    "s = \" My name is Andrii\"\n",
    "def numberOfWords(s):\n",
    "    s_new = s.split()\n",
    "    \n",
    "    "
   ]
  },
  {
   "cell_type": "code",
   "execution_count": 24,
   "id": "26608d53-fa67-42b9-9952-a585dc1b6ac0",
   "metadata": {},
   "outputs": [],
   "source": [
    "nums = np.arange(1,51)"
   ]
  },
  {
   "cell_type": "code",
   "execution_count": 18,
   "id": "cc09596e-13e3-46bc-b6e9-79f02fcb492a",
   "metadata": {},
   "outputs": [],
   "source": [
    "import numpy as np"
   ]
  },
  {
   "cell_type": "code",
   "execution_count": 25,
   "id": "5b90a1ef-6920-4037-8a89-209a92e487a2",
   "metadata": {},
   "outputs": [
    {
     "data": {
      "text/plain": [
       "array([ 1,  2,  3,  4,  5,  6,  7,  8,  9, 10, 11, 12, 13, 14, 15, 16, 17,\n",
       "       18, 19, 20, 21, 22, 23, 24, 25, 26, 27, 28, 29, 30, 31, 32, 33, 34,\n",
       "       35, 36, 37, 38, 39, 40, 41, 42, 43, 44, 45, 46, 47, 48, 49, 50])"
      ]
     },
     "execution_count": 25,
     "metadata": {},
     "output_type": "execute_result"
    }
   ],
   "source": [
    "nums"
   ]
  },
  {
   "cell_type": "code",
   "execution_count": 32,
   "id": "e71bd559-9752-4614-a6b8-b6991dfd2121",
   "metadata": {},
   "outputs": [
    {
     "name": "stdout",
     "output_type": "stream",
     "text": [
      "1\n",
      "2\n",
      "Fizz\n",
      "4\n",
      "Buzz\n",
      "Fizz\n",
      "7\n",
      "8\n",
      "Fizz\n",
      "Buzz\n",
      "11\n",
      "Fizz\n",
      "13\n",
      "14\n",
      "FizzBuzz\n",
      "16\n",
      "17\n",
      "Fizz\n",
      "19\n",
      "Buzz\n",
      "Fizz\n",
      "22\n",
      "23\n",
      "Fizz\n",
      "Buzz\n",
      "26\n",
      "Fizz\n",
      "28\n",
      "29\n",
      "FizzBuzz\n",
      "31\n",
      "32\n",
      "Fizz\n",
      "34\n",
      "Buzz\n",
      "Fizz\n",
      "37\n",
      "38\n",
      "Fizz\n",
      "Buzz\n",
      "41\n",
      "Fizz\n",
      "43\n",
      "44\n",
      "FizzBuzz\n",
      "46\n",
      "47\n",
      "Fizz\n",
      "49\n",
      "Buzz\n"
     ]
    }
   ],
   "source": [
    "for num in nums:\n",
    "    if num%3==0 and num%5==0:\n",
    "        print(\"FizzBuzz\")\n",
    "    elif num % 3 == 0:\n",
    "        print('Fizz')\n",
    "    elif num % 5 == 0:\n",
    "        print('Buzz')\n",
    "    else:\n",
    "        print(num)"
   ]
  },
  {
   "cell_type": "code",
   "execution_count": 33,
   "id": "7c3242cd-e7d6-4b21-8c0f-d40fd303dc27",
   "metadata": {},
   "outputs": [],
   "source": [
    "nums = [1,1,2]"
   ]
  },
  {
   "cell_type": "code",
   "execution_count": 34,
   "id": "deb14f9b-0b3b-438c-87d9-fb1bd9a36899",
   "metadata": {},
   "outputs": [
    {
     "data": {
      "text/plain": [
       "[1, 1, 2]"
      ]
     },
     "execution_count": 34,
     "metadata": {},
     "output_type": "execute_result"
    }
   ],
   "source": [
    "nums"
   ]
  },
  {
   "cell_type": "code",
   "execution_count": 36,
   "id": "45feea63-9173-40db-8639-8ad3040aa33c",
   "metadata": {},
   "outputs": [
    {
     "data": {
      "text/plain": [
       "[1, 2]"
      ]
     },
     "execution_count": 36,
     "metadata": {},
     "output_type": "execute_result"
    }
   ],
   "source": [
    "list(set(nums))"
   ]
  },
  {
   "cell_type": "code",
   "execution_count": 37,
   "id": "76de03fd-a210-4313-a224-beab94f356c6",
   "metadata": {},
   "outputs": [
    {
     "data": {
      "text/plain": [
       "[1, 2]"
      ]
     },
     "execution_count": 37,
     "metadata": {},
     "output_type": "execute_result"
    }
   ],
   "source": [
    "[i for i in set(nums)]"
   ]
  },
  {
   "cell_type": "code",
   "execution_count": null,
   "id": "36d362df-d642-4f1a-a735-c1b9c30cd9c6",
   "metadata": {},
   "outputs": [],
   "source": []
  }
 ],
 "metadata": {
  "kernelspec": {
   "display_name": "Python 3 (ipykernel)",
   "language": "python",
   "name": "python3"
  },
  "language_info": {
   "codemirror_mode": {
    "name": "ipython",
    "version": 3
   },
   "file_extension": ".py",
   "mimetype": "text/x-python",
   "name": "python",
   "nbconvert_exporter": "python",
   "pygments_lexer": "ipython3",
   "version": "3.10.9"
  }
 },
 "nbformat": 4,
 "nbformat_minor": 5
}
