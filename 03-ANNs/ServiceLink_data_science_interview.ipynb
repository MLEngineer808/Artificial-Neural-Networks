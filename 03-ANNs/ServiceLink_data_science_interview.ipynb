{
 "cells": [
  {
   "cell_type": "markdown",
   "id": "8942441a-9a0d-4cc7-aaf3-23b1b9719191",
   "metadata": {},
   "source": [
    "## Create a table"
   ]
  },
  {
   "cell_type": "code",
   "execution_count": 235,
   "id": "e4200d55-521a-4cad-bb39-c5f6e0bb939c",
   "metadata": {},
   "outputs": [],
   "source": [
    "import numpy as np"
   ]
  },
  {
   "cell_type": "code",
   "execution_count": 178,
   "id": "951856a4-312f-41c5-96de-0d2fc354f4f2",
   "metadata": {
    "tags": []
   },
   "outputs": [],
   "source": [
    "string = [\"My name is Andrii\", \"Hi\", \"Hellow world\", \"Hawaii\", \"Sergio is great\"]"
   ]
  },
  {
   "cell_type": "code",
   "execution_count": 179,
   "id": "3de68dcc-f1a5-42b1-9a4e-af42438715a5",
   "metadata": {},
   "outputs": [
    {
     "data": {
      "text/plain": [
       "['My name is Andrii', 'Hi', 'Hellow world', 'Hawaii', 'Sergio is great']"
      ]
     },
     "execution_count": 179,
     "metadata": {},
     "output_type": "execute_result"
    }
   ],
   "source": [
    "string "
   ]
  },
  {
   "cell_type": "code",
   "execution_count": 237,
   "id": "e2c4ef38-2e49-4ec3-88b7-2c64a882440d",
   "metadata": {},
   "outputs": [
    {
     "data": {
      "text/plain": [
       "['Hi', 'Hawaii', 'Hellow world', 'Sergio is great', 'My name is Andrii']"
      ]
     },
     "execution_count": 237,
     "metadata": {},
     "output_type": "execute_result"
    }
   ],
   "source": [
    "sorted_string  = sorted(string, key = len)\n",
    "sorted_string"
   ]
  },
  {
   "cell_type": "code",
   "execution_count": 177,
   "id": "25244c85-6ec7-49b8-99c9-5a6f3fdbe1cf",
   "metadata": {},
   "outputs": [],
   "source": [
    "# Table: first column - list of strigs\n",
    "# Second column - number of characters \n",
    "# Random integer (int)\n",
    "#\n",
    "#\n",
    "\n",
    "\"\"\"\n",
    "'Hi',               2    9\n",
    "'Hawaii',           6    4\n",
    "'Hellow world',     12   0\n",
    "'Sergio is great', \n",
    "'My name is Andrii'\n",
    "\n",
    "\n",
    "\n",
    "\"\"\""
   ]
  },
  {
   "cell_type": "code",
   "execution_count": 239,
   "id": "5c465934-9d71-4eaa-9d39-decfae495196",
   "metadata": {},
   "outputs": [
    {
     "data": {
      "text/plain": [
       "[2, 6, 12, 15, 17]"
      ]
     },
     "execution_count": 239,
     "metadata": {},
     "output_type": "execute_result"
    }
   ],
   "source": [
    "row2 = [len(x) for x in sorted_string]\n",
    "row2"
   ]
  },
  {
   "cell_type": "code",
   "execution_count": 242,
   "id": "57921f4e-95e9-4ccb-84d7-da744c8b759b",
   "metadata": {},
   "outputs": [
    {
     "data": {
      "text/plain": [
       "[3, 1, 0, 4, 0]"
      ]
     },
     "execution_count": 242,
     "metadata": {},
     "output_type": "execute_result"
    }
   ],
   "source": [
    "row3 = [np.random.randint(0,9) for x in sorted_string]\n",
    "row3"
   ]
  },
  {
   "cell_type": "code",
   "execution_count": 243,
   "id": "e682131f-bad8-4d4c-9bd1-89cdafb602ac",
   "metadata": {},
   "outputs": [],
   "source": [
    "table = [sorted_string,row2,row3]"
   ]
  },
  {
   "cell_type": "code",
   "execution_count": 244,
   "id": "848bfe7b-7771-4393-88e4-504126915a24",
   "metadata": {},
   "outputs": [
    {
     "data": {
      "text/plain": [
       "array([['Hi', '2', '3'],\n",
       "       ['Hawaii', '6', '1'],\n",
       "       ['Hellow world', '12', '0'],\n",
       "       ['Sergio is great', '15', '4'],\n",
       "       ['My name is Andrii', '17', '0']], dtype='<U21')"
      ]
     },
     "execution_count": 244,
     "metadata": {},
     "output_type": "execute_result"
    }
   ],
   "source": [
    "np.transpose(table)"
   ]
  },
  {
   "cell_type": "code",
   "execution_count": 231,
   "id": "f8500c96-f34b-4dbe-9e8f-bedc440e8d43",
   "metadata": {},
   "outputs": [],
   "source": [
    "table2 = [sorted([s for s in string],key = len),sorted([len(s) for s in string]),[np.random.randint(0,9) for s in string]]"
   ]
  },
  {
   "cell_type": "code",
   "execution_count": 232,
   "id": "ec82ebb7-0a7b-4e54-a5bb-7fccc5cffec6",
   "metadata": {},
   "outputs": [],
   "source": [
    "T2 = np.array(table2).T"
   ]
  },
  {
   "cell_type": "code",
   "execution_count": 206,
   "id": "128fd557-e1c3-45b6-863d-3328f0571245",
   "metadata": {},
   "outputs": [],
   "source": [
    "import pandas as pd"
   ]
  },
  {
   "cell_type": "code",
   "execution_count": 233,
   "id": "e8214867-b553-4730-8dcf-a79fcb5ec8c0",
   "metadata": {},
   "outputs": [],
   "source": [
    "df = pd.DataFrame(T2)"
   ]
  },
  {
   "cell_type": "code",
   "execution_count": 234,
   "id": "3ebc3651-c69a-4b88-85cb-8a17a4c8117b",
   "metadata": {},
   "outputs": [
    {
     "data": {
      "text/html": [
       "<div>\n",
       "<style scoped>\n",
       "    .dataframe tbody tr th:only-of-type {\n",
       "        vertical-align: middle;\n",
       "    }\n",
       "\n",
       "    .dataframe tbody tr th {\n",
       "        vertical-align: top;\n",
       "    }\n",
       "\n",
       "    .dataframe thead th {\n",
       "        text-align: right;\n",
       "    }\n",
       "</style>\n",
       "<table border=\"1\" class=\"dataframe\">\n",
       "  <thead>\n",
       "    <tr style=\"text-align: right;\">\n",
       "      <th></th>\n",
       "      <th>0</th>\n",
       "      <th>1</th>\n",
       "      <th>2</th>\n",
       "    </tr>\n",
       "  </thead>\n",
       "  <tbody>\n",
       "    <tr>\n",
       "      <th>0</th>\n",
       "      <td>Hi</td>\n",
       "      <td>2</td>\n",
       "      <td>2</td>\n",
       "    </tr>\n",
       "    <tr>\n",
       "      <th>1</th>\n",
       "      <td>Hawaii</td>\n",
       "      <td>6</td>\n",
       "      <td>7</td>\n",
       "    </tr>\n",
       "    <tr>\n",
       "      <th>2</th>\n",
       "      <td>Hellow world</td>\n",
       "      <td>12</td>\n",
       "      <td>1</td>\n",
       "    </tr>\n",
       "    <tr>\n",
       "      <th>3</th>\n",
       "      <td>Sergio is great</td>\n",
       "      <td>15</td>\n",
       "      <td>8</td>\n",
       "    </tr>\n",
       "    <tr>\n",
       "      <th>4</th>\n",
       "      <td>My name is Andrii</td>\n",
       "      <td>17</td>\n",
       "      <td>0</td>\n",
       "    </tr>\n",
       "  </tbody>\n",
       "</table>\n",
       "</div>"
      ],
      "text/plain": [
       "                   0   1  2\n",
       "0                 Hi   2  2\n",
       "1             Hawaii   6  7\n",
       "2       Hellow world  12  1\n",
       "3    Sergio is great  15  8\n",
       "4  My name is Andrii  17  0"
      ]
     },
     "execution_count": 234,
     "metadata": {},
     "output_type": "execute_result"
    }
   ],
   "source": [
    "df"
   ]
  },
  {
   "cell_type": "code",
   "execution_count": 210,
   "id": "0983c6d9-78cb-45c3-9a1c-c96813786c51",
   "metadata": {},
   "outputs": [],
   "source": [
    "df.to_csv('Data.csv')"
   ]
  }
 ],
 "metadata": {
  "kernelspec": {
   "display_name": "Python 3 (ipykernel)",
   "language": "python",
   "name": "python3"
  },
  "language_info": {
   "codemirror_mode": {
    "name": "ipython",
    "version": 3
   },
   "file_extension": ".py",
   "mimetype": "text/x-python",
   "name": "python",
   "nbconvert_exporter": "python",
   "pygments_lexer": "ipython3",
   "version": "3.10.9"
  }
 },
 "nbformat": 4,
 "nbformat_minor": 5
}
